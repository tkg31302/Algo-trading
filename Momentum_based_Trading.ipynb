{
  "nbformat": 4,
  "nbformat_minor": 0,
  "metadata": {
    "colab": {
      "provenance": [],
      "authorship_tag": "ABX9TyM+t5g1aTcpm94Wy8zafC7A",
      "include_colab_link": true
    },
    "kernelspec": {
      "name": "python3",
      "display_name": "Python 3"
    },
    "language_info": {
      "name": "python"
    }
  },
  "cells": [
    {
      "cell_type": "markdown",
      "metadata": {
        "id": "view-in-github",
        "colab_type": "text"
      },
      "source": [
        "<a href=\"https://colab.research.google.com/github/tkg31302/Algo-trading/blob/main/Momentum_based_Trading.ipynb\" target=\"_parent\"><img src=\"https://colab.research.google.com/assets/colab-badge.svg\" alt=\"Open In Colab\"/></a>"
      ]
    },
    {
      "cell_type": "markdown",
      "source": [
        "##Momentum based Trading"
      ],
      "metadata": {
        "id": "bc-VKd2HKvwR"
      }
    },
    {
      "cell_type": "code",
      "execution_count": 9,
      "metadata": {
        "id": "DFf1Q-E3IvPo"
      },
      "outputs": [],
      "source": [
        "import pandas as pd\n",
        "import numpy as np\n",
        "import datetime\n",
        "import matplotlib.pyplot as plt\n",
        "import seaborn as sns\n",
        "\n",
        "N = 50\n",
        "T = 7\n",
        "R = 0.8\n",
        "M = 5\n",
        "F = 0.005\n",
        "D = 500\n",
        "B = 10000"
      ]
    },
    {
      "cell_type": "code",
      "source": [
        "def GetData(NameOfFile):\n",
        "  return pd.DataFrame(pd.read_csv(NameOfFile, usecols = ['datadate','tic','adjcp']))"
      ],
      "metadata": {
        "id": "VNKmnee5Iwin"
      },
      "execution_count": 10,
      "outputs": []
    },
    {
      "cell_type": "code",
      "source": [
        "def PartitionData(Data):\n",
        "  DateToIndex = {}\n",
        "  for e in range(len(Data['datadate'])):\n",
        "    DateToIndex.setdefault(str(Data['datadate'][e]),e)\n",
        "  return [np.array_split(Data,2926), DateToIndex]"
      ],
      "metadata": {
        "id": "xqVyaJBRIwe_"
      },
      "execution_count": 11,
      "outputs": []
    },
    {
      "cell_type": "code",
      "source": [
        "def GetMomentumBasedPriority(PartitionedDataFrameList, DateToIndex ,today):\n",
        "  NdaysAgo = datetime.date(int(today[0:4]),int(today[4:6]),int(today[6:])) + datetime.timedelta(days = -N)\n",
        "  i = 0\n",
        "  while i >= 0:\n",
        "    x = str(NdaysAgo - datetime.timedelta(days = i)).replace('-','')\n",
        "    if (x in DateToIndex.keys()):\n",
        "      break\n",
        "    i += 1\n",
        "  temp = x\n",
        "  Momentum = np.array(PartitionedDataFrameList[DateToIndex[today] % 2926]['adjcp']) - np.array(PartitionedDataFrameList[DateToIndex[temp] % 2926]['adjcp'])\n",
        "  Sum = np.array(PartitionedDataFrameList[DateToIndex[today] % 2926]['adjcp'])\n",
        "  for i in range((DateToIndex[temp] + 1), (DateToIndex[today]),30):\n",
        "    Sum += np.array(PartitionedDataFrameList[i % 2926]['adjcp'])\n",
        "  return Momentum * N / Sum"
      ],
      "metadata": {
        "id": "BODB0qwfIwc3"
      },
      "execution_count": 12,
      "outputs": []
    },
    {
      "cell_type": "code",
      "source": [
        "def GetBalanced(prices, weights,balance):\n",
        "  copy = np.flip(np.sort(weights))\n",
        "  for i in range(M,len(weights)):\n",
        "    copy[i] = 0\n",
        "  for i in range(len(weights)):\n",
        "    if weights[i] not in copy:\n",
        "      weights[i] = 0\n",
        "    elif weights[i] < 0:\n",
        "      weights[i] = 0\n",
        "  sum = np.sum(weights)\n",
        "  if (sum <= 0):\n",
        "    return np.zeros(30, dtype = float)\n",
        "  weights /= sum\n",
        "  sum = np.sum(weights * prices)\n",
        "  return (balance / sum) * weights"
      ],
      "metadata": {
        "id": "iCoXHPAyIwax"
      },
      "execution_count": 13,
      "outputs": []
    },
    {
      "cell_type": "code",
      "source": [
        "class PortFolio:\n",
        "  def __init__(self, balance, numStocks, prices):\n",
        "    self.balance = balance\n",
        "    self.numStocks = numStocks\n",
        "    self.prices = prices\n",
        "\n",
        "  def SellStock(self, index):\n",
        "    self.balance += self.numStocks[index] * self.prices[index] * (1 - F)\n",
        "    self.numStocks[index] = 0\n",
        "\n",
        "  def BuyStock(self, index, number):\n",
        "    self.balance -= number * self.prices[index] * (1 + F)\n",
        "\n",
        "  def CalculateNetWorth(self):\n",
        "    return self.balance + np.sum(self.numStocks * self.prices) * (1 - F)\n",
        "\n",
        "  def ChangePricesTo(self, newPriceVector):\n",
        "    self.prices = newPriceVector\n",
        "\n",
        "  def RebalancePortFolio(self, newWeights):\n",
        "    balanceCopy = self.balance + np.sum(self.numStocks * self.prices) * (1 - F)\n",
        "    newStocks = GetBalanced(self.prices, newWeights, balanceCopy)\n",
        "    for i in range(30):\n",
        "      balanceCopy -= self.prices[i] * newStocks[i] * (1 + F)\n",
        "    if balanceCopy + np.sum(self.prices * newStocks) * (1 - F) + B * (1 - R) >= self.CalculateNetWorth():\n",
        "      self.balance = balanceCopy\n",
        "      self.numStocks = newStocks"
      ],
      "metadata": {
        "id": "9UAMObJAIwY3"
      },
      "execution_count": 14,
      "outputs": []
    },
    {
      "cell_type": "code",
      "source": [
        "Data = GetData(\"DATA.csv\")\n",
        "List = PartitionData(Data)\n",
        "PartitionedData = List[0]\n",
        "DateToIndex = List[1]\n",
        "\n",
        "myPortfolio = PortFolio(B * R,np.zeros(30, dtype = float),np.array(PartitionedData[int(list(DateToIndex.keys())[N]) % 2926]['adjcp']))\n",
        "NetWorthAfterEachTrade = [myPortfolio.CalculateNetWorth() + B * (1 - R)]\n",
        "\n",
        "for i in range((N + 1),len(PartitionedData)):\n",
        "  today = list(DateToIndex.keys())[i]\n",
        "  myPortfolio.ChangePricesTo(np.array(PartitionedData[int(today) % 2926]['adjcp']))\n",
        "  NetWorthAfterEachTrade.append(myPortfolio.CalculateNetWorth() + B * (1 - R))\n",
        "  if (i % T == 0):\n",
        "    myPortfolio.RebalancePortFolio(GetMomentumBasedPriority(PartitionedData, DateToIndex, today))"
      ],
      "metadata": {
        "id": "epp9zmV2IwWj"
      },
      "execution_count": 15,
      "outputs": []
    },
    {
      "cell_type": "code",
      "source": [
        "def VisualizeData(FinalData):\n",
        "  plt.plot(FinalData)\n",
        "  plt.show()"
      ],
      "metadata": {
        "id": "w8GejSXoIwUa"
      },
      "execution_count": 16,
      "outputs": []
    },
    {
      "cell_type": "code",
      "source": [
        "VisualizeData(NetWorthAfterEachTrade)"
      ],
      "metadata": {
        "colab": {
          "base_uri": "https://localhost:8080/",
          "height": 430
        },
        "id": "CW3hSnTaIwSO",
        "outputId": "e6669f1a-924a-4987-f537-fe87cc88d974"
      },
      "execution_count": 18,
      "outputs": [
        {
          "output_type": "display_data",
          "data": {
            "text/plain": [
              "<Figure size 640x480 with 1 Axes>"
            ],
            "image/png": "[encoded data removed]"
          },
          "metadata": {}
        }
      ]
    }
  ]
}