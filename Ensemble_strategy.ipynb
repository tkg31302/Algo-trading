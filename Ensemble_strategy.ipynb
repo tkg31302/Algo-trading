{
  "nbformat": 4,
  "nbformat_minor": 0,
  "metadata": {
    "colab": {
      "provenance": [],
      "authorship_tag": "ABX9TyOomwwPtJYNEpo/CDBGUrdb",
      "include_colab_link": true
    },
    "kernelspec": {
      "name": "python3",
      "display_name": "Python 3"
    },
    "language_info": {
      "name": "python"
    }
  },
  "cells": [
    {
      "cell_type": "markdown",
      "metadata": {
        "id": "view-in-github",
        "colab_type": "text"
      },
      "source": [
        "<a href=\"https://colab.research.google.com/github/tkg31302/Algo-trading/blob/main/Ensemble_strategy.ipynb\" target=\"_parent\"><img src=\"https://colab.research.google.com/assets/colab-badge.svg\" alt=\"Open In Colab\"/></a>"
      ]
    },
    {
      "cell_type": "code",
      "execution_count": null,
      "metadata": {
        "id": "-03au8xnJeaw"
      },
      "outputs": [],
      "source": [
        "def get_history(self,symbol, num):\n",
        "    data = {}\n",
        "    dates = []\n",
        "    history = self.History([symbol], num, Resolution.Daily).loc[symbol]['close'] #request the historical data for a single symbol\n",
        "    for time in history.index:\n",
        "        t = time.to_pydatetime().date()\n",
        "        dates.append(t)\n",
        "    dates = pd.to_datetime(dates)\n",
        "    df = pd.DataFrame(history)\n",
        "    df.reset_index(drop=True)\n",
        "    df.index = dates\n",
        "    df.columns = ['price']\n",
        "    return df\n",
        "def calculate_return(self,df):\n",
        "    #calculate the mean for further use\n",
        "    mean = np.mean(df.price)\n",
        "    # cauculate the standard deviation\n",
        "    sd = np.std(df.price)\n",
        "    # pandas method to take the last datapoint of each month.\n",
        "    df = df.resample('BM').last()\n",
        "    # the following three lines are for further experiment purpose\n",
        "    # df['j1'] = df.price.shift(1) - df.price.shift(2)\n",
        "    # df['j2'] = df.price.shift(2) - df.price.shift(3)\n",
        "    # df['j3'] = df.price.shift(3) - df.price.shift(4)\n",
        "    # take the return as depend variable\n",
        "    df['log_return'] = df.price - df.price.shift(1)\n",
        "    # calculate the reversal factor\n",
        "    df['reversal'] = (df.price.shift(1) - mean)/sd\n",
        "    # calculate the momentum factor\n",
        "    df['mom'] = df.price.shift(1) - df.price.shift(4)\n",
        "    df = df.dropna() #remove nan value\n",
        "    return (df,mean,sd)"
      ]
    },
    {
      "cell_type": "code",
      "source": [
        "def concat(self):\n",
        "    # we requested as many daily tradebars as we can\n",
        "    his = self.get_history(self.quoted[0].Value,20*365)\n",
        "    # get the clean DataFrame for linear regression\n",
        "    his = self.calculate_return(his)\n",
        "    # add property to the symbol object for further use.\n",
        "    self.quoted[0].mean = his[1]\n",
        "    self.quoted[0].sd = his[2]\n",
        "    df = his[0]\n",
        "    # repeat the above procedure for each symbols, and concat the dataframes\n",
        "    for i in range(1,len(self.quoted)):\n",
        "        his = self.get_history(self.quoted[i].Value,20*365)\n",
        "        his = self.calculate_return(his)\n",
        "        self.quoted[i].mean = his[1]\n",
        "        self.quoted[i].sd = his[2]\n",
        "        df = pd.concat([df,his[0]])\n",
        "    df = df.sort_index()\n",
        "    # remove outliers that outside the 99.9% confidence interval\n",
        "    df = df[df.apply(lambda x: np.abs(x - x.mean()) / x.std() < 3).all(axis=1)]\n",
        "    return df\n",
        "def OLS(self,df):\n",
        "    res = sm.ols(formula = 'return ~ reversal + mom',data = df).fit()\n",
        "    return res"
      ],
      "metadata": {
        "id": "B83ppcSLNHQG"
      },
      "execution_count": null,
      "outputs": []
    },
    {
      "cell_type": "code",
      "source": [
        "def predict(self,symbol):\n",
        "    # get current month in string\n",
        "    month = str(self.Time).split(' ')[0][5:7]\n",
        "    # request the data in the last three months\n",
        "    res = self.get_history(symbol.Value,33*3)\n",
        "    # pandas method to take the last datapoint of each month\n",
        "    res = res.resample('BM').last()\n",
        "    # remove the data points in the current month\n",
        "    res = res[res.index.month != int(month)]\n",
        "    # calculate the variables\n",
        "    res = self.calculate_input(res,symbol.mean,symbol.sd)\n",
        "    res = res.iloc[0]\n",
        "    # take the coefficient. The first one will not be used for sum-product because it's the intercept\n",
        "    params = self.formula.params[1:]\n",
        "    # calculate the expected return\n",
        "    re = sum([a*b for a,b in zip(res[1:],params)]) + self.formula.params[0]\n",
        "    return re\n",
        "def calculate_input(self, df, mean, sd):\n",
        "    df['reversal'] = (df.price - mean)/sd\n",
        "    df['mom'] = df.price - df.price.shift(3)\n",
        "    df = df.dropna()\n",
        "    return df"
      ],
      "metadata": {
        "id": "QE10yMUbNHMf"
      },
      "execution_count": null,
      "outputs": []
    },
    {
      "cell_type": "code",
      "source": [
        "def Initialize(self):\n",
        "    self.SetStartDate(2013,6,1)\n",
        "    self.SetEndDate(2016,6,1)\n",
        "    self.SetCash(10000)\n",
        "    self.syls = ['EURUSD','GBPUSD','USDCAD','USDJPY']\n",
        "    self.quoted = []\n",
        "    for i in range(len(self.syls)):\n",
        "        self.quoted.append(self.AddForex(self.syls[i],Resolution.Daily,Market.Oanda).Symbol)\n",
        "    df = self.concat()\n",
        "    self.Log(str(df))\n",
        "    self.formula = self.OLS(df)\n",
        "    self.Log(str(self.formula.summary()))\n",
        "    self.Log(str(df))\n",
        "    self.Log(str(df.describe()))\n",
        "    for i in self.quoted:\n",
        "        self.Log(str(i.mean) + '   ' + str(i.sd))\n",
        "    self.Schedule.On(self.DateRules.MonthStart(), self.TimeRules.At(9,31), Action(self.action))"
      ],
      "metadata": {
        "id": "6T5tHmCKNHKn"
      },
      "execution_count": null,
      "outputs": []
    },
    {
      "cell_type": "code",
      "source": [
        "def action(self):\n",
        "    rank = []\n",
        "    long_short = []\n",
        "    for i in self.quoted:\n",
        "        rank.append((i,self.predict(i)))\n",
        "# rank the symbols by their expected return\n",
        "    rank.sort(key = lambda x: x[1],reverse = True)\n",
        "# the first element in long_short is the one with the highest expected return, which we are going to long, and the second one is going to be shorted.\n",
        "    long_short.append(rank[0])\n",
        "    long_short.append(rank[-1])\n",
        "    self.Liquidate()\n",
        "# the product < 0 means the expected return of the first one is positive and that of the second one is negative--we are going to long and short.\n",
        "    if long_short[0][1]*long_short[1][1] < 0:\n",
        "        self.SetHoldings(long_short[0][0],1)\n",
        "        self.SetHoldings(long_short[1][0],-1)\n",
        "        # this means we long only because all of the expected return is positive\n",
        "    elif long_short[0][1] > 0 and long_short[1][1] > 0:\n",
        "        self.SetHoldings(long_short[0][0],1)\n",
        "# short only\n",
        "    else:\n",
        "        self.SetHoldings(long_short[1][0],-1)"
      ],
      "metadata": {
        "id": "eZjcTGT1NHIf"
      },
      "execution_count": null,
      "outputs": []
    },
    {
      "cell_type": "code",
      "source": [],
      "metadata": {
        "id": "W3amjjEJNHGX"
      },
      "execution_count": null,
      "outputs": []
    },
    {
      "cell_type": "code",
      "source": [],
      "metadata": {
        "id": "hQL-e0euNHEI"
      },
      "execution_count": null,
      "outputs": []
    },
    {
      "cell_type": "code",
      "source": [],
      "metadata": {
        "id": "v2TEupC3NHCD"
      },
      "execution_count": null,
      "outputs": []
    },
    {
      "cell_type": "code",
      "source": [],
      "metadata": {
        "id": "CFlqQFM4NG_8"
      },
      "execution_count": null,
      "outputs": []
    },
    {
      "cell_type": "code",
      "source": [],
      "metadata": {
        "id": "Ax7NUYCnNG9-"
      },
      "execution_count": null,
      "outputs": []
    },
    {
      "cell_type": "code",
      "source": [],
      "metadata": {
        "id": "nO3mevJbNG7z"
      },
      "execution_count": null,
      "outputs": []
    },
    {
      "cell_type": "code",
      "source": [],
      "metadata": {
        "id": "XscmEcbuNG5t"
      },
      "execution_count": null,
      "outputs": []
    }
  ]
}