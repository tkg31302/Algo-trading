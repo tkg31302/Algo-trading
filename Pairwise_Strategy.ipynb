{
  "nbformat": 4,
  "nbformat_minor": 0,
  "metadata": {
    "colab": {
      "provenance": [],
      "authorship_tag": "ABX9TyNV+dMs4T8htd/vUccFYqSs",
      "include_colab_link": true
    },
    "kernelspec": {
      "name": "python3",
      "display_name": "Python 3"
    },
    "language_info": {
      "name": "python"
    }
  },
  "cells": [
    {
      "cell_type": "markdown",
      "metadata": {
        "id": "view-in-github",
        "colab_type": "text"
      },
      "source": [
        "<a href=\"https://colab.research.google.com/github/tkg31302/Algo-trading/blob/main/Pairwise_Strategy.ipynb\" target=\"_parent\"><img src=\"https://colab.research.google.com/assets/colab-badge.svg\" alt=\"Open In Colab\"/></a>"
      ]
    },
    {
      "cell_type": "markdown",
      "source": [
        "##Pairwise Strategy"
      ],
      "metadata": {
        "id": "_ZFg-2_zK3s7"
      }
    },
    {
      "cell_type": "code",
      "execution_count": 19,
      "metadata": {
        "id": "8Ks4Kal3JakG"
      },
      "outputs": [],
      "source": [
        "import numpy as np\n",
        "import pandas as pd\n",
        "import datetime\n",
        "import matplotlib.pyplot as plt\n",
        "import seaborn as sns\n",
        "\n",
        "N = 50\n",
        "T = 60\n",
        "P = 7\n",
        "M = 4\n",
        "R = 0.8\n",
        "F = 0.005\n",
        "B = 10000"
      ]
    },
    {
      "cell_type": "code",
      "source": [
        "def GetData(NameOfFile):\n",
        "  return pd.DataFrame(pd.read_csv(NameOfFile, usecols = ['datadate','tic','adjcp']))"
      ],
      "metadata": {
        "id": "b3fbjyhIJmH0"
      },
      "execution_count": 20,
      "outputs": []
    },
    {
      "cell_type": "code",
      "source": [
        "def PartitionData(Data):\n",
        "  DateToIndex = {}\n",
        "  for e in range(len(Data['datadate'])):\n",
        "    DateToIndex.setdefault(str(Data['datadate'][e]),e)\n",
        "  return [np.array_split(Data,2926), DateToIndex]\n",
        "\n",
        "def GetMomentumBasedPriority(PartitionedDataFrameList, DateToIndex ,today):\n",
        "  NdaysAgo = datetime.date(int(today[0:4]),int(today[4:6]),int(today[6:])) + datetime.timedelta(days = -N)\n",
        "  i = 0\n",
        "  while i >= 0:\n",
        "    x = str(NdaysAgo - datetime.timedelta(days = i)).replace('-','')\n",
        "    if (x in DateToIndex.keys()):\n",
        "      break\n",
        "    i += 1\n",
        "  temp = x\n",
        "  Momentum = np.array(PartitionedDataFrameList[DateToIndex[today] % 2926]['adjcp']) - np.array(PartitionedDataFrameList[DateToIndex[temp] % 2926]['adjcp'])\n",
        "  Sum = np.array(PartitionedDataFrameList[DateToIndex[today] % 2926]['adjcp'])\n",
        "  for i in range((DateToIndex[temp] + 1), (DateToIndex[today]),30):\n",
        "    Sum += np.array(PartitionedDataFrameList[i % 2926]['adjcp'])\n",
        "  return Momentum * N / Sum\n",
        "\n",
        "def GetBalanced(prices, weights, balance):\n",
        "  copy = np.flip(np.sort(weights))\n",
        "  for i in range(M,len(weights)):\n",
        "    copy[i] = 0\n",
        "  for i in range(len(weights)):\n",
        "    if weights[i] not in copy:\n",
        "      weights[i] = 0\n",
        "    elif weights[i] < 0:\n",
        "      weights[i] = 0\n",
        "  sum = np.sum(weights)\n",
        "  if (sum <= 0):\n",
        "    return np.zeros(30, dtype = float)\n",
        "  weights /= sum\n",
        "  sum = np.sum(weights * prices)\n",
        "  return (balance / sum) * weights"
      ],
      "metadata": {
        "id": "Ju6UqBpOJmEY"
      },
      "execution_count": 21,
      "outputs": []
    },
    {
      "cell_type": "code",
      "source": [
        "def Switch(firstStock, secondStock, today ,PartitionedDataFrames):\n",
        "  weights = GetMomentumBasedPriority(PartitionedDataFrames, DateToIndex, today)\n",
        "  if weights[firstStock] >= weights[secondStock]:\n",
        "    return firstStock\n",
        "  else:\n",
        "    return secondStock"
      ],
      "metadata": {
        "id": "I3FWtS7dJmCH"
      },
      "execution_count": 22,
      "outputs": []
    },
    {
      "cell_type": "code",
      "source": [
        "class PortFolio:\n",
        "  def __init__(self, balance, numStocks, negCorr, prices):\n",
        "    self.balance = balance\n",
        "    self.numStocks = numStocks\n",
        "    self.numStocks += GetBalanced(prices,GetMomentumBasedPriority(PartitionedData,DateToIndex,list(DateToIndex.keys())[T]),self.balance)\n",
        "    self.prices = prices\n",
        "    self.balance -= np.sum(self.numStocks * self.prices) * (1 + F)\n",
        "    self.negCorr = negCorr\n",
        "\n",
        "  def SellStock(self, index):\n",
        "    self.balance += self.numStocks[index] * self.prices[index] * (1 - F)\n",
        "    self.numStocks[index] = 0\n",
        "\n",
        "  def BuyStock(self, index, number):\n",
        "    self.balance -= number * self.prices[index] * (1 + F)\n",
        "\n",
        "  def CalculateNetWorth(self):\n",
        "    return self.balance + np.sum(self.numStocks * self.prices) * (1 - F)\n",
        "\n",
        "  def ChangePricesTo(self, newPriceVector):\n",
        "    self.prices = newPriceVector\n",
        "\n",
        "  def ChangePairs(self):\n",
        "    if self.negCorr == []:\n",
        "      return\n",
        "    for i in range(len(self.negCorr) - 1):\n",
        "      x = Switch(self.negCorr[i][0],self.negCorr[i][1],today,PartitionedData)\n",
        "      y = self.negCorr[i][0] + self.negCorr[i][1] - x\n",
        "      credit = self.numStocks[y] * self.prices[y] * (1 - F)\n",
        "      self.numStocks[y] = 0\n",
        "      self.numStocks[x] += credit / (self.prices[x] * (1 + F))\n",
        "\n",
        "  def RebalancePortfolio(self):\n",
        "    TdaysAgo = datetime.date(int(today[0:4]),int(today[4:6]),int(today[6:])) + datetime.timedelta(days = -T)\n",
        "    i = 0\n",
        "    while i >= 0:\n",
        "      x = str(TdaysAgo - datetime.timedelta(days = i)).replace('-','')\n",
        "      if (x in DateToIndex.keys()):\n",
        "        break\n",
        "      i += 1\n",
        "    temp = x\n",
        "    Sum = [np.array(PartitionedData[DateToIndex[today] % 2926]['adjcp'])]\n",
        "    for i in range((DateToIndex[temp] + 1), (DateToIndex[today]),30):\n",
        "      Sum.append(np.array(PartitionedData[i % 2926]['adjcp']))\n",
        "    corrCoef = np.corrcoef(np.array(Sum))\n",
        "    copy = np.sort(corrCoef.flatten())\n",
        "    for k in range(M):\n",
        "      for i in range(corrCoef.shape[0]):\n",
        "        for j in range(30):\n",
        "          if abs(corrCoef[i][j] - copy[k]) < 1e-10:\n",
        "            self.negCorr.append((i,j))\n",
        "    self.negCorr = self.negCorr[0:M]\n",
        "    copy = self.negCorr.copy()\n",
        "    if self.negCorr == []:\n",
        "      return\n",
        "    for i in range(len(self.negCorr) - 1):\n",
        "      for j in range(i + 1, len(self.negCorr)):\n",
        "        x = list(self.negCorr[i])\n",
        "        y = list(self.negCorr[j])\n",
        "        if x[0] == y[0] or x[0] == y[1] or x[1] == y[0] or x[1] == y[1]:\n",
        "          if self.negCorr[j] in copy and copy.count(self.negCorr[j]) > 1:\n",
        "            copy.remove(self.negCorr[j])\n",
        "    self.negCorr = copy.copy()\n",
        "    self.ChangePairs()"
      ],
      "metadata": {
        "id": "IzHj5U9zJmAC"
      },
      "execution_count": 23,
      "outputs": []
    },
    {
      "cell_type": "code",
      "source": [
        "Data = GetData(\"DATA.csv\")\n",
        "List = PartitionData(Data)\n",
        "PartitionedData = List[0]\n",
        "DateToIndex = List[1]\n",
        "\n",
        "myPortfolio = PortFolio(B * R,np.zeros(30, dtype = float),[],np.array(PartitionedData[int(list(DateToIndex.keys())[T]) % 2926]['adjcp']))\n",
        "NetWorthAfterEachTrade = [myPortfolio.CalculateNetWorth() + B * (1 - R)]\n",
        "\n",
        "for i in range((T + 1),len(PartitionedData)):\n",
        "  today = list(DateToIndex.keys())[i]\n",
        "  myPortfolio.ChangePricesTo(np.array(PartitionedData[int(today) % 2926]['adjcp']))\n",
        "  NetWorthAfterEachTrade.append(myPortfolio.CalculateNetWorth() + B * (1 - R))\n",
        "  if (i % T == 0):\n",
        "    myPortfolio.RebalancePortfolio()\n",
        "  if (i % P == 0):\n",
        "    myPortfolio.ChangePairs()"
      ],
      "metadata": {
        "id": "EjKa-DLcJl9w"
      },
      "execution_count": 25,
      "outputs": []
    },
    {
      "cell_type": "code",
      "source": [
        "def VisualizeData(FinalData):\n",
        "  plt.plot(FinalData)\n",
        "  plt.show()"
      ],
      "metadata": {
        "id": "a4Y7t5MqJl7y"
      },
      "execution_count": 26,
      "outputs": []
    },
    {
      "cell_type": "code",
      "source": [
        "VisualizeData(NetWorthAfterEachTrade[:500])"
      ],
      "metadata": {
        "colab": {
          "base_uri": "https://localhost:8080/",
          "height": 434
        },
        "id": "onHPuT9ZJl5z",
        "outputId": "e4250709-ca80-437c-9e9c-b7bdc0ac711b"
      },
      "execution_count": 28,
      "outputs": [
        {
          "output_type": "display_data",
          "data": {
            "text/plain": [
              "<Figure size 640x480 with 1 Axes>"
            ],
            "image/png": "[encoded data removed]"
          },
          "metadata": {}
        }
      ]
    },
    {
      "cell_type": "code",
      "source": [],
      "metadata": {
        "id": "xK15sO3AJl4v"
      },
      "execution_count": null,
      "outputs": []
    },
    {
      "cell_type": "code",
      "source": [],
      "metadata": {
        "id": "6lSkfSdbJl07"
      },
      "execution_count": null,
      "outputs": []
    },
    {
      "cell_type": "code",
      "source": [],
      "metadata": {
        "id": "rXc72vqVJly1"
      },
      "execution_count": null,
      "outputs": []
    }
  ]
}